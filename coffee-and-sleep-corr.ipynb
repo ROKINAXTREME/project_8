{
 "cells": [
  {
   "cell_type": "code",
   "execution_count": 2,
   "metadata": {},
   "outputs": [
    {
     "name": "stdout",
     "output_type": "stream",
     "text": [
      "   day of the week  Coffee in ml  sleep in hours\n",
      "0              1.0          20.0            89.0\n",
      "1              2.0          30.0            75.0\n",
      "2              3.0          45.0            65.0\n",
      "3              4.0          50.0            40.0\n",
      "4              5.0          60.0            20.0\n",
      "5              6.0          80.0            10.0\n",
      "6              NaN           NaN             NaN\n",
      "7              NaN           NaN             NaN\n",
      "8              NaN           NaN             NaN\n"
     ]
    }
   ],
   "source": [
    "import pandas\n",
    "df=pandas.read_csv('coffee-and-sleep')\n",
    "print(df)"
   ]
  },
  {
   "cell_type": "code",
   "execution_count": 3,
   "metadata": {},
   "outputs": [
    {
     "data": {
      "text/html": [
       "<div>\n",
       "<style scoped>\n",
       "    .dataframe tbody tr th:only-of-type {\n",
       "        vertical-align: middle;\n",
       "    }\n",
       "\n",
       "    .dataframe tbody tr th {\n",
       "        vertical-align: top;\n",
       "    }\n",
       "\n",
       "    .dataframe thead th {\n",
       "        text-align: right;\n",
       "    }\n",
       "</style>\n",
       "<table border=\"1\" class=\"dataframe\">\n",
       "  <thead>\n",
       "    <tr style=\"text-align: right;\">\n",
       "      <th></th>\n",
       "      <th>day of the week</th>\n",
       "      <th>Coffee in ml</th>\n",
       "      <th>sleep in hours</th>\n",
       "    </tr>\n",
       "  </thead>\n",
       "  <tbody>\n",
       "    <tr>\n",
       "      <th>day of the week</th>\n",
       "      <td>1.000000</td>\n",
       "      <td>0.987114</td>\n",
       "      <td>-0.991727</td>\n",
       "    </tr>\n",
       "    <tr>\n",
       "      <th>Coffee in ml</th>\n",
       "      <td>0.987114</td>\n",
       "      <td>1.000000</td>\n",
       "      <td>-0.963061</td>\n",
       "    </tr>\n",
       "    <tr>\n",
       "      <th>sleep in hours</th>\n",
       "      <td>-0.991727</td>\n",
       "      <td>-0.963061</td>\n",
       "      <td>1.000000</td>\n",
       "    </tr>\n",
       "  </tbody>\n",
       "</table>\n",
       "</div>"
      ],
      "text/plain": [
       "                 day of the week  Coffee in ml  sleep in hours\n",
       "day of the week         1.000000      0.987114       -0.991727\n",
       "Coffee in ml            0.987114      1.000000       -0.963061\n",
       "sleep in hours         -0.991727     -0.963061        1.000000"
      ]
     },
     "execution_count": 3,
     "metadata": {},
     "output_type": "execute_result"
    }
   ],
   "source": [
    "df.corr(method=\"pearson\")"
   ]
  },
  {
   "cell_type": "code",
   "execution_count": null,
   "metadata": {},
   "outputs": [],
   "source": []
  }
 ],
 "metadata": {
  "kernelspec": {
   "display_name": "Python 3",
   "language": "python",
   "name": "python3"
  },
  "language_info": {
   "codemirror_mode": {
    "name": "ipython",
    "version": 3
   },
   "file_extension": ".py",
   "mimetype": "text/x-python",
   "name": "python",
   "nbconvert_exporter": "python",
   "pygments_lexer": "ipython3",
   "version": "3.8.3"
  }
 },
 "nbformat": 4,
 "nbformat_minor": 4
}

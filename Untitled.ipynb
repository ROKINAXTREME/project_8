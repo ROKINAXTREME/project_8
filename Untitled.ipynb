{
 "cells": [
  {
   "cell_type": "code",
   "execution_count": 4,
   "metadata": {},
   "outputs": [
    {
     "name": "stdout",
     "output_type": "stream",
     "text": [
      "   Size of TV  Average time spent watching TV in a week (hours)\n",
      "0          12                                                36\n",
      "1          15                                                48\n",
      "2          17                                                24\n",
      "3          18                                                12\n",
      "4          21                                                34\n",
      "5          24                                                39\n",
      "6          30                                                14\n",
      "7          36                                                26\n",
      "8          42                                                32\n"
     ]
    }
   ],
   "source": [
    "import pandas as pd\n",
    "df=pd.read_csv('data-tv.csv')\n",
    "print(df)"
   ]
  },
  {
   "cell_type": "code",
   "execution_count": 5,
   "metadata": {},
   "outputs": [
    {
     "data": {
      "text/html": [
       "<div>\n",
       "<style scoped>\n",
       "    .dataframe tbody tr th:only-of-type {\n",
       "        vertical-align: middle;\n",
       "    }\n",
       "\n",
       "    .dataframe tbody tr th {\n",
       "        vertical-align: top;\n",
       "    }\n",
       "\n",
       "    .dataframe thead th {\n",
       "        text-align: right;\n",
       "    }\n",
       "</style>\n",
       "<table border=\"1\" class=\"dataframe\">\n",
       "  <thead>\n",
       "    <tr style=\"text-align: right;\">\n",
       "      <th></th>\n",
       "      <th>Size of TV</th>\n",
       "      <th>Average time spent watching TV in a week (hours)</th>\n",
       "    </tr>\n",
       "  </thead>\n",
       "  <tbody>\n",
       "    <tr>\n",
       "      <th>Size of TV</th>\n",
       "      <td>1.000000</td>\n",
       "      <td>-0.215965</td>\n",
       "    </tr>\n",
       "    <tr>\n",
       "      <th>Average time spent watching TV in a week (hours)</th>\n",
       "      <td>-0.215965</td>\n",
       "      <td>1.000000</td>\n",
       "    </tr>\n",
       "  </tbody>\n",
       "</table>\n",
       "</div>"
      ],
      "text/plain": [
       "                                                  Size of TV  \\\n",
       "Size of TV                                          1.000000   \n",
       "Average time spent watching TV in a week (hours)   -0.215965   \n",
       "\n",
       "                                                  Average time spent watching TV in a week (hours)  \n",
       "Size of TV                                                                               -0.215965  \n",
       "Average time spent watching TV in a week (hours)                                          1.000000  "
      ]
     },
     "execution_count": 5,
     "metadata": {},
     "output_type": "execute_result"
    }
   ],
   "source": [
    "df.corr(method='pearson')"
   ]
  },
  {
   "cell_type": "code",
   "execution_count": null,
   "metadata": {},
   "outputs": [],
   "source": []
  }
 ],
 "metadata": {
  "kernelspec": {
   "display_name": "Python 3",
   "language": "python",
   "name": "python3"
  },
  "language_info": {
   "codemirror_mode": {
    "name": "ipython",
    "version": 3
   },
   "file_extension": ".py",
   "mimetype": "text/x-python",
   "name": "python",
   "nbconvert_exporter": "python",
   "pygments_lexer": "ipython3",
   "version": "3.8.3"
  }
 },
 "nbformat": 4,
 "nbformat_minor": 4
}
